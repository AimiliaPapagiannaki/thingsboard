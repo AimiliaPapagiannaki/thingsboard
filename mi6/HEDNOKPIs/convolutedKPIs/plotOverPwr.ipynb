{
 "cells": [
  {
   "cell_type": "code",
   "execution_count": 8,
   "metadata": {},
   "outputs": [],
   "source": [
    "import pandas as pd\n",
    "import numpy as np\n",
    "import os\n",
    "import seaborn as sns\n",
    "import matplotlib.pyplot as plt"
   ]
  },
  {
   "cell_type": "code",
   "execution_count": 2,
   "metadata": {},
   "outputs": [
    {
     "data": {
      "text/plain": [
       "['1-2024', '2-2024', '3-2024', '4-2024', '5-2024 (until 22-5)']"
      ]
     },
     "execution_count": 2,
     "metadata": {},
     "output_type": "execute_result"
    }
   ],
   "source": [
    "os.chdir('C:/Users/EmilyP/meazon/Meazon-PROJECTS - DEDDIE-analysis/KPIs Summary/')\n",
    "files = os.listdir()\n",
    "monthfiles = [s for s in files if s.startswith((\"1-\", \"2-\", \"3-\",\"4-\",\"5-\"))]\n",
    "monthfiles"
   ]
  },
  {
   "cell_type": "code",
   "execution_count": 3,
   "metadata": {},
   "outputs": [
    {
     "name": "stdout",
     "output_type": "stream",
     "text": [
      "   Transformer  Nr. of power alarms     month\n",
      "0       ΜΠ-004                 1920  Jan 2024\n",
      "1       ΜΠ-013                 1915  Jan 2024\n",
      "2       ΜΝ-010                  511  Jan 2024\n",
      "3       MM-185                  297  Jan 2024\n",
      "4       ΜΠ-297                   76  Jan 2024\n",
      "5       ΜΜ-423                   61  Jan 2024\n",
      "6       ΜΠ-110                   24  Jan 2024\n",
      "7       ΜΠ-046                    7  Jan 2024\n",
      "8       MM-359                    5  Jan 2024\n",
      "9       ΜΤ-055                    2  Jan 2024\n",
      "10      ΜΠ-112                    1  Jan 2024\n",
      "0       MM-185                   75  Feb 2024\n",
      "11      ΜΜ-423                  313  Feb 2024\n",
      "12      ΜΝ-010                  113  Feb 2024\n",
      "15      ΜΠ-004                 1422  Feb 2024\n",
      "17      ΜΠ-013                 1514  Feb 2024\n",
      "19      ΜΠ-017                   94  Feb 2024\n",
      "23      ΜΠ-112                    5  Feb 2024\n",
      "28      ΜΠ-297                   27  Feb 2024\n",
      "0       ΜΠ-004                  680  Mar 2024\n",
      "1       ΜΜ-423                  665  Mar 2024\n",
      "2       ΜΠ-013                  502  Mar 2024\n",
      "3       ΜΠ-017                   50  Mar 2024\n",
      "4       ΜΝ-010                   36  Mar 2024\n",
      "5       ΜΠ-112                    3  Mar 2024\n",
      "0       ΜΜ-423                  766  Apr 2024\n",
      "1       ΜΠ-017                   52  Apr 2024\n",
      "2       ΜΠ-004                   41  Apr 2024\n",
      "3       ΜΡ-093                    8  Apr 2024\n",
      "0       ΜΜ-423                  643  May 2024\n",
      "1       ΜΠ-004                   15  May 2024\n",
      "2       ΜΠ-017                   13  May 2024\n",
      "3       ΜΠ-112                    1  May 2024\n"
     ]
    }
   ],
   "source": [
    "df = pd.DataFrame([])\n",
    "i=0\n",
    "for name in ['Jan','Feb','Mar','Apr','May']:\n",
    "    os.chdir('C:/Users/EmilyP/meazon/Meazon-PROJECTS - DEDDIE-analysis/KPIs Summary/'+monthfiles[i]+'/')\n",
    "    tmp = pd.read_excel('HEDNO_KPIs_simplified_'+name+'_2024.xlsx', engine='openpyxl')\n",
    "    tmp = tmp.loc[tmp['Nr. of power alarms']>0,['Transformer','Nr. of power alarms']]\n",
    "    tmp['month'] = name+' 2024'\n",
    "    df = pd.concat([df,tmp])\n",
    "    i += 1\n",
    "    os.chdir('..')\n",
    "df['Nr. of power alarms'] = df['Nr. of power alarms'].astype(int)\n",
    "print(df)"
   ]
  },
  {
   "cell_type": "code",
   "execution_count": 4,
   "metadata": {},
   "outputs": [],
   "source": [
    "# tmp['Transformer'].unique()\n",
    "import plotly.express as px\n"
   ]
  },
  {
   "cell_type": "code",
   "execution_count": 22,
   "metadata": {},
   "outputs": [
    {
     "data": {
      "application/vnd.plotly.v1+json": {
       "config": {
        "plotlyServerURL": "https://plot.ly"
       },
       "data": [
        {
         "hovertemplate": "Month=%{x}<br>Transformer=%{y}<br>Nr. of Power Alarms=%{marker.color}<extra></extra>",
         "legendgroup": "",
         "marker": {
          "color": [
           1920,
           1915,
           511,
           297,
           76,
           61,
           24,
           7,
           5,
           2,
           1,
           75,
           313,
           113,
           1422,
           1514,
           94,
           5,
           27,
           680,
           665,
           502,
           50,
           36,
           3,
           766,
           52,
           41,
           8,
           643,
           15,
           13,
           1
          ],
          "coloraxis": "coloraxis",
          "symbol": "circle"
         },
         "mode": "markers",
         "name": "",
         "scene": "scene",
         "showlegend": false,
         "type": "scatter3d",
         "x": [
          "Jan 2024",
          "Jan 2024",
          "Jan 2024",
          "Jan 2024",
          "Jan 2024",
          "Jan 2024",
          "Jan 2024",
          "Jan 2024",
          "Jan 2024",
          "Jan 2024",
          "Jan 2024",
          "Feb 2024",
          "Feb 2024",
          "Feb 2024",
          "Feb 2024",
          "Feb 2024",
          "Feb 2024",
          "Feb 2024",
          "Feb 2024",
          "Mar 2024",
          "Mar 2024",
          "Mar 2024",
          "Mar 2024",
          "Mar 2024",
          "Mar 2024",
          "Apr 2024",
          "Apr 2024",
          "Apr 2024",
          "Apr 2024",
          "May 2024",
          "May 2024",
          "May 2024",
          "May 2024"
         ],
         "y": [
          "ΜΠ-004",
          "ΜΠ-013",
          "ΜΝ-010",
          "MM-185",
          "ΜΠ-297",
          "ΜΜ-423",
          "ΜΠ-110",
          "ΜΠ-046",
          "MM-359",
          "ΜΤ-055",
          "ΜΠ-112",
          "MM-185",
          "ΜΜ-423",
          "ΜΝ-010",
          "ΜΠ-004",
          "ΜΠ-013",
          "ΜΠ-017",
          "ΜΠ-112",
          "ΜΠ-297",
          "ΜΠ-004",
          "ΜΜ-423",
          "ΜΠ-013",
          "ΜΠ-017",
          "ΜΝ-010",
          "ΜΠ-112",
          "ΜΜ-423",
          "ΜΠ-017",
          "ΜΠ-004",
          "ΜΡ-093",
          "ΜΜ-423",
          "ΜΠ-004",
          "ΜΠ-017",
          "ΜΠ-112"
         ],
         "z": [
          1920,
          1915,
          511,
          297,
          76,
          61,
          24,
          7,
          5,
          2,
          1,
          75,
          313,
          113,
          1422,
          1514,
          94,
          5,
          27,
          680,
          665,
          502,
          50,
          36,
          3,
          766,
          52,
          41,
          8,
          643,
          15,
          13,
          1
         ]
        }
       ],
       "layout": {
        "coloraxis": {
         "colorbar": {
          "title": {
           "text": "Nr. of Power Alarms"
          }
         },
         "colorscale": [
          [
           0,
           "#0d0887"
          ],
          [
           0.1111111111111111,
           "#46039f"
          ],
          [
           0.2222222222222222,
           "#7201a8"
          ],
          [
           0.3333333333333333,
           "#9c179e"
          ],
          [
           0.4444444444444444,
           "#bd3786"
          ],
          [
           0.5555555555555556,
           "#d8576b"
          ],
          [
           0.6666666666666666,
           "#ed7953"
          ],
          [
           0.7777777777777778,
           "#fb9f3a"
          ],
          [
           0.8888888888888888,
           "#fdca26"
          ],
          [
           1,
           "#f0f921"
          ]
         ]
        },
        "legend": {
         "tracegroupgap": 0
        },
        "scene": {
         "domain": {
          "x": [
           0,
           1
          ],
          "y": [
           0,
           1
          ]
         },
         "xaxis": {
          "title": {
           "text": "Month"
          }
         },
         "yaxis": {
          "title": {
           "text": "Transformer"
          }
         },
         "zaxis": {
          "title": {
           "text": "Nr. of Power Alarms"
          }
         }
        },
        "template": {
         "data": {
          "bar": [
           {
            "error_x": {
             "color": "#2a3f5f"
            },
            "error_y": {
             "color": "#2a3f5f"
            },
            "marker": {
             "line": {
              "color": "#E5ECF6",
              "width": 0.5
             },
             "pattern": {
              "fillmode": "overlay",
              "size": 10,
              "solidity": 0.2
             }
            },
            "type": "bar"
           }
          ],
          "barpolar": [
           {
            "marker": {
             "line": {
              "color": "#E5ECF6",
              "width": 0.5
             },
             "pattern": {
              "fillmode": "overlay",
              "size": 10,
              "solidity": 0.2
             }
            },
            "type": "barpolar"
           }
          ],
          "carpet": [
           {
            "aaxis": {
             "endlinecolor": "#2a3f5f",
             "gridcolor": "white",
             "linecolor": "white",
             "minorgridcolor": "white",
             "startlinecolor": "#2a3f5f"
            },
            "baxis": {
             "endlinecolor": "#2a3f5f",
             "gridcolor": "white",
             "linecolor": "white",
             "minorgridcolor": "white",
             "startlinecolor": "#2a3f5f"
            },
            "type": "carpet"
           }
          ],
          "choropleth": [
           {
            "colorbar": {
             "outlinewidth": 0,
             "ticks": ""
            },
            "type": "choropleth"
           }
          ],
          "contour": [
           {
            "colorbar": {
             "outlinewidth": 0,
             "ticks": ""
            },
            "colorscale": [
             [
              0,
              "#0d0887"
             ],
             [
              0.1111111111111111,
              "#46039f"
             ],
             [
              0.2222222222222222,
              "#7201a8"
             ],
             [
              0.3333333333333333,
              "#9c179e"
             ],
             [
              0.4444444444444444,
              "#bd3786"
             ],
             [
              0.5555555555555556,
              "#d8576b"
             ],
             [
              0.6666666666666666,
              "#ed7953"
             ],
             [
              0.7777777777777778,
              "#fb9f3a"
             ],
             [
              0.8888888888888888,
              "#fdca26"
             ],
             [
              1,
              "#f0f921"
             ]
            ],
            "type": "contour"
           }
          ],
          "contourcarpet": [
           {
            "colorbar": {
             "outlinewidth": 0,
             "ticks": ""
            },
            "type": "contourcarpet"
           }
          ],
          "heatmap": [
           {
            "colorbar": {
             "outlinewidth": 0,
             "ticks": ""
            },
            "colorscale": [
             [
              0,
              "#0d0887"
             ],
             [
              0.1111111111111111,
              "#46039f"
             ],
             [
              0.2222222222222222,
              "#7201a8"
             ],
             [
              0.3333333333333333,
              "#9c179e"
             ],
             [
              0.4444444444444444,
              "#bd3786"
             ],
             [
              0.5555555555555556,
              "#d8576b"
             ],
             [
              0.6666666666666666,
              "#ed7953"
             ],
             [
              0.7777777777777778,
              "#fb9f3a"
             ],
             [
              0.8888888888888888,
              "#fdca26"
             ],
             [
              1,
              "#f0f921"
             ]
            ],
            "type": "heatmap"
           }
          ],
          "heatmapgl": [
           {
            "colorbar": {
             "outlinewidth": 0,
             "ticks": ""
            },
            "colorscale": [
             [
              0,
              "#0d0887"
             ],
             [
              0.1111111111111111,
              "#46039f"
             ],
             [
              0.2222222222222222,
              "#7201a8"
             ],
             [
              0.3333333333333333,
              "#9c179e"
             ],
             [
              0.4444444444444444,
              "#bd3786"
             ],
             [
              0.5555555555555556,
              "#d8576b"
             ],
             [
              0.6666666666666666,
              "#ed7953"
             ],
             [
              0.7777777777777778,
              "#fb9f3a"
             ],
             [
              0.8888888888888888,
              "#fdca26"
             ],
             [
              1,
              "#f0f921"
             ]
            ],
            "type": "heatmapgl"
           }
          ],
          "histogram": [
           {
            "marker": {
             "pattern": {
              "fillmode": "overlay",
              "size": 10,
              "solidity": 0.2
             }
            },
            "type": "histogram"
           }
          ],
          "histogram2d": [
           {
            "colorbar": {
             "outlinewidth": 0,
             "ticks": ""
            },
            "colorscale": [
             [
              0,
              "#0d0887"
             ],
             [
              0.1111111111111111,
              "#46039f"
             ],
             [
              0.2222222222222222,
              "#7201a8"
             ],
             [
              0.3333333333333333,
              "#9c179e"
             ],
             [
              0.4444444444444444,
              "#bd3786"
             ],
             [
              0.5555555555555556,
              "#d8576b"
             ],
             [
              0.6666666666666666,
              "#ed7953"
             ],
             [
              0.7777777777777778,
              "#fb9f3a"
             ],
             [
              0.8888888888888888,
              "#fdca26"
             ],
             [
              1,
              "#f0f921"
             ]
            ],
            "type": "histogram2d"
           }
          ],
          "histogram2dcontour": [
           {
            "colorbar": {
             "outlinewidth": 0,
             "ticks": ""
            },
            "colorscale": [
             [
              0,
              "#0d0887"
             ],
             [
              0.1111111111111111,
              "#46039f"
             ],
             [
              0.2222222222222222,
              "#7201a8"
             ],
             [
              0.3333333333333333,
              "#9c179e"
             ],
             [
              0.4444444444444444,
              "#bd3786"
             ],
             [
              0.5555555555555556,
              "#d8576b"
             ],
             [
              0.6666666666666666,
              "#ed7953"
             ],
             [
              0.7777777777777778,
              "#fb9f3a"
             ],
             [
              0.8888888888888888,
              "#fdca26"
             ],
             [
              1,
              "#f0f921"
             ]
            ],
            "type": "histogram2dcontour"
           }
          ],
          "mesh3d": [
           {
            "colorbar": {
             "outlinewidth": 0,
             "ticks": ""
            },
            "type": "mesh3d"
           }
          ],
          "parcoords": [
           {
            "line": {
             "colorbar": {
              "outlinewidth": 0,
              "ticks": ""
             }
            },
            "type": "parcoords"
           }
          ],
          "pie": [
           {
            "automargin": true,
            "type": "pie"
           }
          ],
          "scatter": [
           {
            "fillpattern": {
             "fillmode": "overlay",
             "size": 10,
             "solidity": 0.2
            },
            "type": "scatter"
           }
          ],
          "scatter3d": [
           {
            "line": {
             "colorbar": {
              "outlinewidth": 0,
              "ticks": ""
             }
            },
            "marker": {
             "colorbar": {
              "outlinewidth": 0,
              "ticks": ""
             }
            },
            "type": "scatter3d"
           }
          ],
          "scattercarpet": [
           {
            "marker": {
             "colorbar": {
              "outlinewidth": 0,
              "ticks": ""
             }
            },
            "type": "scattercarpet"
           }
          ],
          "scattergeo": [
           {
            "marker": {
             "colorbar": {
              "outlinewidth": 0,
              "ticks": ""
             }
            },
            "type": "scattergeo"
           }
          ],
          "scattergl": [
           {
            "marker": {
             "colorbar": {
              "outlinewidth": 0,
              "ticks": ""
             }
            },
            "type": "scattergl"
           }
          ],
          "scattermapbox": [
           {
            "marker": {
             "colorbar": {
              "outlinewidth": 0,
              "ticks": ""
             }
            },
            "type": "scattermapbox"
           }
          ],
          "scatterpolar": [
           {
            "marker": {
             "colorbar": {
              "outlinewidth": 0,
              "ticks": ""
             }
            },
            "type": "scatterpolar"
           }
          ],
          "scatterpolargl": [
           {
            "marker": {
             "colorbar": {
              "outlinewidth": 0,
              "ticks": ""
             }
            },
            "type": "scatterpolargl"
           }
          ],
          "scatterternary": [
           {
            "marker": {
             "colorbar": {
              "outlinewidth": 0,
              "ticks": ""
             }
            },
            "type": "scatterternary"
           }
          ],
          "surface": [
           {
            "colorbar": {
             "outlinewidth": 0,
             "ticks": ""
            },
            "colorscale": [
             [
              0,
              "#0d0887"
             ],
             [
              0.1111111111111111,
              "#46039f"
             ],
             [
              0.2222222222222222,
              "#7201a8"
             ],
             [
              0.3333333333333333,
              "#9c179e"
             ],
             [
              0.4444444444444444,
              "#bd3786"
             ],
             [
              0.5555555555555556,
              "#d8576b"
             ],
             [
              0.6666666666666666,
              "#ed7953"
             ],
             [
              0.7777777777777778,
              "#fb9f3a"
             ],
             [
              0.8888888888888888,
              "#fdca26"
             ],
             [
              1,
              "#f0f921"
             ]
            ],
            "type": "surface"
           }
          ],
          "table": [
           {
            "cells": {
             "fill": {
              "color": "#EBF0F8"
             },
             "line": {
              "color": "white"
             }
            },
            "header": {
             "fill": {
              "color": "#C8D4E3"
             },
             "line": {
              "color": "white"
             }
            },
            "type": "table"
           }
          ]
         },
         "layout": {
          "annotationdefaults": {
           "arrowcolor": "#2a3f5f",
           "arrowhead": 0,
           "arrowwidth": 1
          },
          "autotypenumbers": "strict",
          "coloraxis": {
           "colorbar": {
            "outlinewidth": 0,
            "ticks": ""
           }
          },
          "colorscale": {
           "diverging": [
            [
             0,
             "#8e0152"
            ],
            [
             0.1,
             "#c51b7d"
            ],
            [
             0.2,
             "#de77ae"
            ],
            [
             0.3,
             "#f1b6da"
            ],
            [
             0.4,
             "#fde0ef"
            ],
            [
             0.5,
             "#f7f7f7"
            ],
            [
             0.6,
             "#e6f5d0"
            ],
            [
             0.7,
             "#b8e186"
            ],
            [
             0.8,
             "#7fbc41"
            ],
            [
             0.9,
             "#4d9221"
            ],
            [
             1,
             "#276419"
            ]
           ],
           "sequential": [
            [
             0,
             "#0d0887"
            ],
            [
             0.1111111111111111,
             "#46039f"
            ],
            [
             0.2222222222222222,
             "#7201a8"
            ],
            [
             0.3333333333333333,
             "#9c179e"
            ],
            [
             0.4444444444444444,
             "#bd3786"
            ],
            [
             0.5555555555555556,
             "#d8576b"
            ],
            [
             0.6666666666666666,
             "#ed7953"
            ],
            [
             0.7777777777777778,
             "#fb9f3a"
            ],
            [
             0.8888888888888888,
             "#fdca26"
            ],
            [
             1,
             "#f0f921"
            ]
           ],
           "sequentialminus": [
            [
             0,
             "#0d0887"
            ],
            [
             0.1111111111111111,
             "#46039f"
            ],
            [
             0.2222222222222222,
             "#7201a8"
            ],
            [
             0.3333333333333333,
             "#9c179e"
            ],
            [
             0.4444444444444444,
             "#bd3786"
            ],
            [
             0.5555555555555556,
             "#d8576b"
            ],
            [
             0.6666666666666666,
             "#ed7953"
            ],
            [
             0.7777777777777778,
             "#fb9f3a"
            ],
            [
             0.8888888888888888,
             "#fdca26"
            ],
            [
             1,
             "#f0f921"
            ]
           ]
          },
          "colorway": [
           "#636efa",
           "#EF553B",
           "#00cc96",
           "#ab63fa",
           "#FFA15A",
           "#19d3f3",
           "#FF6692",
           "#B6E880",
           "#FF97FF",
           "#FECB52"
          ],
          "font": {
           "color": "#2a3f5f"
          },
          "geo": {
           "bgcolor": "white",
           "lakecolor": "white",
           "landcolor": "#E5ECF6",
           "showlakes": true,
           "showland": true,
           "subunitcolor": "white"
          },
          "hoverlabel": {
           "align": "left"
          },
          "hovermode": "closest",
          "mapbox": {
           "style": "light"
          },
          "paper_bgcolor": "white",
          "plot_bgcolor": "#E5ECF6",
          "polar": {
           "angularaxis": {
            "gridcolor": "white",
            "linecolor": "white",
            "ticks": ""
           },
           "bgcolor": "#E5ECF6",
           "radialaxis": {
            "gridcolor": "white",
            "linecolor": "white",
            "ticks": ""
           }
          },
          "scene": {
           "xaxis": {
            "backgroundcolor": "#E5ECF6",
            "gridcolor": "white",
            "gridwidth": 2,
            "linecolor": "white",
            "showbackground": true,
            "ticks": "",
            "zerolinecolor": "white"
           },
           "yaxis": {
            "backgroundcolor": "#E5ECF6",
            "gridcolor": "white",
            "gridwidth": 2,
            "linecolor": "white",
            "showbackground": true,
            "ticks": "",
            "zerolinecolor": "white"
           },
           "zaxis": {
            "backgroundcolor": "#E5ECF6",
            "gridcolor": "white",
            "gridwidth": 2,
            "linecolor": "white",
            "showbackground": true,
            "ticks": "",
            "zerolinecolor": "white"
           }
          },
          "shapedefaults": {
           "line": {
            "color": "#2a3f5f"
           }
          },
          "ternary": {
           "aaxis": {
            "gridcolor": "white",
            "linecolor": "white",
            "ticks": ""
           },
           "baxis": {
            "gridcolor": "white",
            "linecolor": "white",
            "ticks": ""
           },
           "bgcolor": "#E5ECF6",
           "caxis": {
            "gridcolor": "white",
            "linecolor": "white",
            "ticks": ""
           }
          },
          "title": {
           "x": 0.05
          },
          "xaxis": {
           "automargin": true,
           "gridcolor": "white",
           "linecolor": "white",
           "ticks": "",
           "title": {
            "standoff": 15
           },
           "zerolinecolor": "white",
           "zerolinewidth": 2
          },
          "yaxis": {
           "automargin": true,
           "gridcolor": "white",
           "linecolor": "white",
           "ticks": "",
           "title": {
            "standoff": 15
           },
           "zerolinecolor": "white",
           "zerolinewidth": 2
          }
         }
        },
        "title": {
         "text": "Power Alarms for Each Transformer Across Each Month"
        }
       }
      }
     },
     "metadata": {},
     "output_type": "display_data"
    }
   ],
   "source": [
    "fig = px.scatter_3d(df, x='month', y='Transformer', z='Nr. of power alarms',\n",
    "                    title='Power Alarms for Each Transformer Across Each Month',\n",
    "                    labels={'month': 'Month', 'Transformer': 'Transformer', 'Nr. of power alarms': 'Nr. of Power Alarms'},\n",
    "                    color='Nr. of power alarms')\n",
    "\n",
    "fig.show()"
   ]
  },
  {
   "cell_type": "code",
   "execution_count": 5,
   "metadata": {},
   "outputs": [],
   "source": [
    "import plotly.graph_objs as go\n",
    "import plotly.colors as pc\n"
   ]
  },
  {
   "cell_type": "code",
   "execution_count": 23,
   "metadata": {},
   "outputs": [],
   "source": [
    "# os.getcwd()"
   ]
  },
  {
   "cell_type": "code",
   "execution_count": 6,
   "metadata": {},
   "outputs": [
    {
     "data": {
      "application/vnd.plotly.v1+json": {
       "config": {
        "plotlyServerURL": "https://plot.ly"
       },
       "data": [
        {
         "hoverinfo": "text",
         "line": {
          "color": "#636EFA",
          "width": 10
         },
         "mode": "lines",
         "name": "ΜΠ-004 - Jan 2024",
         "text": "Transformer: ΜΠ-004<br>Month: Jan 2024<br>Power Alarms: 1920",
         "type": "scatter3d",
         "x": [
          2,
          2
         ],
         "y": [
          4,
          4
         ],
         "z": [
          0,
          1920
         ]
        },
        {
         "hoverinfo": "text",
         "line": {
          "color": "#636EFA",
          "width": 10
         },
         "mode": "lines",
         "name": "ΜΠ-004 - Feb 2024",
         "text": "Transformer: ΜΠ-004<br>Month: Feb 2024<br>Power Alarms: 1422",
         "type": "scatter3d",
         "x": [
          1,
          1
         ],
         "y": [
          4,
          4
         ],
         "z": [
          0,
          1422
         ]
        },
        {
         "hoverinfo": "text",
         "line": {
          "color": "#636EFA",
          "width": 10
         },
         "mode": "lines",
         "name": "ΜΠ-004 - Mar 2024",
         "text": "Transformer: ΜΠ-004<br>Month: Mar 2024<br>Power Alarms: 680",
         "type": "scatter3d",
         "x": [
          3,
          3
         ],
         "y": [
          4,
          4
         ],
         "z": [
          0,
          680
         ]
        },
        {
         "hoverinfo": "text",
         "line": {
          "color": "#636EFA",
          "width": 10
         },
         "mode": "lines",
         "name": "ΜΠ-004 - Apr 2024",
         "text": "Transformer: ΜΠ-004<br>Month: Apr 2024<br>Power Alarms: 41",
         "type": "scatter3d",
         "x": [
          0,
          0
         ],
         "y": [
          4,
          4
         ],
         "z": [
          0,
          41
         ]
        },
        {
         "hoverinfo": "text",
         "line": {
          "color": "#636EFA",
          "width": 10
         },
         "mode": "lines",
         "name": "ΜΠ-004 - May 2024",
         "text": "Transformer: ΜΠ-004<br>Month: May 2024<br>Power Alarms: 15",
         "type": "scatter3d",
         "x": [
          4,
          4
         ],
         "y": [
          4,
          4
         ],
         "z": [
          0,
          15
         ]
        },
        {
         "hoverinfo": "text",
         "line": {
          "color": "#EF553B",
          "width": 10
         },
         "mode": "lines",
         "name": "ΜΠ-013 - Jan 2024",
         "text": "Transformer: ΜΠ-013<br>Month: Jan 2024<br>Power Alarms: 1915",
         "type": "scatter3d",
         "x": [
          2,
          2
         ],
         "y": [
          5,
          5
         ],
         "z": [
          0,
          1915
         ]
        },
        {
         "hoverinfo": "text",
         "line": {
          "color": "#EF553B",
          "width": 10
         },
         "mode": "lines",
         "name": "ΜΠ-013 - Feb 2024",
         "text": "Transformer: ΜΠ-013<br>Month: Feb 2024<br>Power Alarms: 1514",
         "type": "scatter3d",
         "x": [
          1,
          1
         ],
         "y": [
          5,
          5
         ],
         "z": [
          0,
          1514
         ]
        },
        {
         "hoverinfo": "text",
         "line": {
          "color": "#EF553B",
          "width": 10
         },
         "mode": "lines",
         "name": "ΜΠ-013 - Mar 2024",
         "text": "Transformer: ΜΠ-013<br>Month: Mar 2024<br>Power Alarms: 502",
         "type": "scatter3d",
         "x": [
          3,
          3
         ],
         "y": [
          5,
          5
         ],
         "z": [
          0,
          502
         ]
        },
        {
         "hoverinfo": "text",
         "line": {
          "color": "#00CC96",
          "width": 10
         },
         "mode": "lines",
         "name": "ΜΝ-010 - Jan 2024",
         "text": "Transformer: ΜΝ-010<br>Month: Jan 2024<br>Power Alarms: 511",
         "type": "scatter3d",
         "x": [
          2,
          2
         ],
         "y": [
          3,
          3
         ],
         "z": [
          0,
          511
         ]
        },
        {
         "hoverinfo": "text",
         "line": {
          "color": "#00CC96",
          "width": 10
         },
         "mode": "lines",
         "name": "ΜΝ-010 - Feb 2024",
         "text": "Transformer: ΜΝ-010<br>Month: Feb 2024<br>Power Alarms: 113",
         "type": "scatter3d",
         "x": [
          1,
          1
         ],
         "y": [
          3,
          3
         ],
         "z": [
          0,
          113
         ]
        },
        {
         "hoverinfo": "text",
         "line": {
          "color": "#00CC96",
          "width": 10
         },
         "mode": "lines",
         "name": "ΜΝ-010 - Mar 2024",
         "text": "Transformer: ΜΝ-010<br>Month: Mar 2024<br>Power Alarms: 36",
         "type": "scatter3d",
         "x": [
          3,
          3
         ],
         "y": [
          3,
          3
         ],
         "z": [
          0,
          36
         ]
        },
        {
         "hoverinfo": "text",
         "line": {
          "color": "#AB63FA",
          "width": 10
         },
         "mode": "lines",
         "name": "MM-185 - Jan 2024",
         "text": "Transformer: MM-185<br>Month: Jan 2024<br>Power Alarms: 297",
         "type": "scatter3d",
         "x": [
          2,
          2
         ],
         "y": [
          0,
          0
         ],
         "z": [
          0,
          297
         ]
        },
        {
         "hoverinfo": "text",
         "line": {
          "color": "#AB63FA",
          "width": 10
         },
         "mode": "lines",
         "name": "MM-185 - Feb 2024",
         "text": "Transformer: MM-185<br>Month: Feb 2024<br>Power Alarms: 75",
         "type": "scatter3d",
         "x": [
          1,
          1
         ],
         "y": [
          0,
          0
         ],
         "z": [
          0,
          75
         ]
        },
        {
         "hoverinfo": "text",
         "line": {
          "color": "#FFA15A",
          "width": 10
         },
         "mode": "lines",
         "name": "ΜΠ-297 - Jan 2024",
         "text": "Transformer: ΜΠ-297<br>Month: Jan 2024<br>Power Alarms: 76",
         "type": "scatter3d",
         "x": [
          2,
          2
         ],
         "y": [
          10,
          10
         ],
         "z": [
          0,
          76
         ]
        },
        {
         "hoverinfo": "text",
         "line": {
          "color": "#FFA15A",
          "width": 10
         },
         "mode": "lines",
         "name": "ΜΠ-297 - Feb 2024",
         "text": "Transformer: ΜΠ-297<br>Month: Feb 2024<br>Power Alarms: 27",
         "type": "scatter3d",
         "x": [
          1,
          1
         ],
         "y": [
          10,
          10
         ],
         "z": [
          0,
          27
         ]
        },
        {
         "hoverinfo": "text",
         "line": {
          "color": "#19D3F3",
          "width": 10
         },
         "mode": "lines",
         "name": "ΜΜ-423 - Jan 2024",
         "text": "Transformer: ΜΜ-423<br>Month: Jan 2024<br>Power Alarms: 61",
         "type": "scatter3d",
         "x": [
          2,
          2
         ],
         "y": [
          2,
          2
         ],
         "z": [
          0,
          61
         ]
        },
        {
         "hoverinfo": "text",
         "line": {
          "color": "#19D3F3",
          "width": 10
         },
         "mode": "lines",
         "name": "ΜΜ-423 - Feb 2024",
         "text": "Transformer: ΜΜ-423<br>Month: Feb 2024<br>Power Alarms: 313",
         "type": "scatter3d",
         "x": [
          1,
          1
         ],
         "y": [
          2,
          2
         ],
         "z": [
          0,
          313
         ]
        },
        {
         "hoverinfo": "text",
         "line": {
          "color": "#19D3F3",
          "width": 10
         },
         "mode": "lines",
         "name": "ΜΜ-423 - Mar 2024",
         "text": "Transformer: ΜΜ-423<br>Month: Mar 2024<br>Power Alarms: 665",
         "type": "scatter3d",
         "x": [
          3,
          3
         ],
         "y": [
          2,
          2
         ],
         "z": [
          0,
          665
         ]
        },
        {
         "hoverinfo": "text",
         "line": {
          "color": "#19D3F3",
          "width": 10
         },
         "mode": "lines",
         "name": "ΜΜ-423 - Apr 2024",
         "text": "Transformer: ΜΜ-423<br>Month: Apr 2024<br>Power Alarms: 766",
         "type": "scatter3d",
         "x": [
          0,
          0
         ],
         "y": [
          2,
          2
         ],
         "z": [
          0,
          766
         ]
        },
        {
         "hoverinfo": "text",
         "line": {
          "color": "#19D3F3",
          "width": 10
         },
         "mode": "lines",
         "name": "ΜΜ-423 - May 2024",
         "text": "Transformer: ΜΜ-423<br>Month: May 2024<br>Power Alarms: 643",
         "type": "scatter3d",
         "x": [
          4,
          4
         ],
         "y": [
          2,
          2
         ],
         "z": [
          0,
          643
         ]
        },
        {
         "hoverinfo": "text",
         "line": {
          "color": "#FF6692",
          "width": 10
         },
         "mode": "lines",
         "name": "ΜΠ-110 - Jan 2024",
         "text": "Transformer: ΜΠ-110<br>Month: Jan 2024<br>Power Alarms: 24",
         "type": "scatter3d",
         "x": [
          2,
          2
         ],
         "y": [
          8,
          8
         ],
         "z": [
          0,
          24
         ]
        },
        {
         "hoverinfo": "text",
         "line": {
          "color": "#B6E880",
          "width": 10
         },
         "mode": "lines",
         "name": "ΜΠ-046 - Jan 2024",
         "text": "Transformer: ΜΠ-046<br>Month: Jan 2024<br>Power Alarms: 7",
         "type": "scatter3d",
         "x": [
          2,
          2
         ],
         "y": [
          7,
          7
         ],
         "z": [
          0,
          7
         ]
        },
        {
         "hoverinfo": "text",
         "line": {
          "color": "#FF97FF",
          "width": 10
         },
         "mode": "lines",
         "name": "MM-359 - Jan 2024",
         "text": "Transformer: MM-359<br>Month: Jan 2024<br>Power Alarms: 5",
         "type": "scatter3d",
         "x": [
          2,
          2
         ],
         "y": [
          1,
          1
         ],
         "z": [
          0,
          5
         ]
        },
        {
         "hoverinfo": "text",
         "line": {
          "color": "#FECB52",
          "width": 10
         },
         "mode": "lines",
         "name": "ΜΤ-055 - Jan 2024",
         "text": "Transformer: ΜΤ-055<br>Month: Jan 2024<br>Power Alarms: 2",
         "type": "scatter3d",
         "x": [
          2,
          2
         ],
         "y": [
          12,
          12
         ],
         "z": [
          0,
          2
         ]
        },
        {
         "hoverinfo": "text",
         "line": {
          "color": "#636EFA",
          "width": 10
         },
         "mode": "lines",
         "name": "ΜΠ-112 - Jan 2024",
         "text": "Transformer: ΜΠ-112<br>Month: Jan 2024<br>Power Alarms: 1",
         "type": "scatter3d",
         "x": [
          2,
          2
         ],
         "y": [
          9,
          9
         ],
         "z": [
          0,
          1
         ]
        },
        {
         "hoverinfo": "text",
         "line": {
          "color": "#636EFA",
          "width": 10
         },
         "mode": "lines",
         "name": "ΜΠ-112 - Feb 2024",
         "text": "Transformer: ΜΠ-112<br>Month: Feb 2024<br>Power Alarms: 5",
         "type": "scatter3d",
         "x": [
          1,
          1
         ],
         "y": [
          9,
          9
         ],
         "z": [
          0,
          5
         ]
        },
        {
         "hoverinfo": "text",
         "line": {
          "color": "#636EFA",
          "width": 10
         },
         "mode": "lines",
         "name": "ΜΠ-112 - Mar 2024",
         "text": "Transformer: ΜΠ-112<br>Month: Mar 2024<br>Power Alarms: 3",
         "type": "scatter3d",
         "x": [
          3,
          3
         ],
         "y": [
          9,
          9
         ],
         "z": [
          0,
          3
         ]
        },
        {
         "hoverinfo": "text",
         "line": {
          "color": "#636EFA",
          "width": 10
         },
         "mode": "lines",
         "name": "ΜΠ-112 - May 2024",
         "text": "Transformer: ΜΠ-112<br>Month: May 2024<br>Power Alarms: 1",
         "type": "scatter3d",
         "x": [
          4,
          4
         ],
         "y": [
          9,
          9
         ],
         "z": [
          0,
          1
         ]
        },
        {
         "hoverinfo": "text",
         "line": {
          "color": "#EF553B",
          "width": 10
         },
         "mode": "lines",
         "name": "ΜΠ-017 - Feb 2024",
         "text": "Transformer: ΜΠ-017<br>Month: Feb 2024<br>Power Alarms: 94",
         "type": "scatter3d",
         "x": [
          1,
          1
         ],
         "y": [
          6,
          6
         ],
         "z": [
          0,
          94
         ]
        },
        {
         "hoverinfo": "text",
         "line": {
          "color": "#EF553B",
          "width": 10
         },
         "mode": "lines",
         "name": "ΜΠ-017 - Mar 2024",
         "text": "Transformer: ΜΠ-017<br>Month: Mar 2024<br>Power Alarms: 50",
         "type": "scatter3d",
         "x": [
          3,
          3
         ],
         "y": [
          6,
          6
         ],
         "z": [
          0,
          50
         ]
        },
        {
         "hoverinfo": "text",
         "line": {
          "color": "#EF553B",
          "width": 10
         },
         "mode": "lines",
         "name": "ΜΠ-017 - Apr 2024",
         "text": "Transformer: ΜΠ-017<br>Month: Apr 2024<br>Power Alarms: 52",
         "type": "scatter3d",
         "x": [
          0,
          0
         ],
         "y": [
          6,
          6
         ],
         "z": [
          0,
          52
         ]
        },
        {
         "hoverinfo": "text",
         "line": {
          "color": "#EF553B",
          "width": 10
         },
         "mode": "lines",
         "name": "ΜΠ-017 - May 2024",
         "text": "Transformer: ΜΠ-017<br>Month: May 2024<br>Power Alarms: 13",
         "type": "scatter3d",
         "x": [
          4,
          4
         ],
         "y": [
          6,
          6
         ],
         "z": [
          0,
          13
         ]
        },
        {
         "hoverinfo": "text",
         "line": {
          "color": "#00CC96",
          "width": 10
         },
         "mode": "lines",
         "name": "ΜΡ-093 - Apr 2024",
         "text": "Transformer: ΜΡ-093<br>Month: Apr 2024<br>Power Alarms: 8",
         "type": "scatter3d",
         "x": [
          0,
          0
         ],
         "y": [
          11,
          11
         ],
         "z": [
          0,
          8
         ]
        }
       ],
       "layout": {
        "scene": {
         "xaxis": {
          "ticktext": [
           "Apr 2024",
           "Feb 2024",
           "Jan 2024",
           "Mar 2024",
           "May 2024"
          ],
          "tickvals": [
           0,
           1,
           2,
           3,
           4
          ],
          "title": {
           "text": "Month"
          }
         },
         "yaxis": {
          "ticktext": [
           "MM-185",
           "MM-359",
           "ΜΜ-423",
           "ΜΝ-010",
           "ΜΠ-004",
           "ΜΠ-013",
           "ΜΠ-017",
           "ΜΠ-046",
           "ΜΠ-110",
           "ΜΠ-112",
           "ΜΠ-297",
           "ΜΡ-093",
           "ΜΤ-055"
          ],
          "tickvals": [
           0,
           1,
           2,
           3,
           4,
           5,
           6,
           7,
           8,
           9,
           10,
           11,
           12
          ],
          "title": {
           "text": "Transformer"
          }
         },
         "zaxis": {
          "title": {
           "text": "Nr. of Power Alarms"
          }
         }
        },
        "template": {
         "data": {
          "bar": [
           {
            "error_x": {
             "color": "#2a3f5f"
            },
            "error_y": {
             "color": "#2a3f5f"
            },
            "marker": {
             "line": {
              "color": "#E5ECF6",
              "width": 0.5
             },
             "pattern": {
              "fillmode": "overlay",
              "size": 10,
              "solidity": 0.2
             }
            },
            "type": "bar"
           }
          ],
          "barpolar": [
           {
            "marker": {
             "line": {
              "color": "#E5ECF6",
              "width": 0.5
             },
             "pattern": {
              "fillmode": "overlay",
              "size": 10,
              "solidity": 0.2
             }
            },
            "type": "barpolar"
           }
          ],
          "carpet": [
           {
            "aaxis": {
             "endlinecolor": "#2a3f5f",
             "gridcolor": "white",
             "linecolor": "white",
             "minorgridcolor": "white",
             "startlinecolor": "#2a3f5f"
            },
            "baxis": {
             "endlinecolor": "#2a3f5f",
             "gridcolor": "white",
             "linecolor": "white",
             "minorgridcolor": "white",
             "startlinecolor": "#2a3f5f"
            },
            "type": "carpet"
           }
          ],
          "choropleth": [
           {
            "colorbar": {
             "outlinewidth": 0,
             "ticks": ""
            },
            "type": "choropleth"
           }
          ],
          "contour": [
           {
            "colorbar": {
             "outlinewidth": 0,
             "ticks": ""
            },
            "colorscale": [
             [
              0,
              "#0d0887"
             ],
             [
              0.1111111111111111,
              "#46039f"
             ],
             [
              0.2222222222222222,
              "#7201a8"
             ],
             [
              0.3333333333333333,
              "#9c179e"
             ],
             [
              0.4444444444444444,
              "#bd3786"
             ],
             [
              0.5555555555555556,
              "#d8576b"
             ],
             [
              0.6666666666666666,
              "#ed7953"
             ],
             [
              0.7777777777777778,
              "#fb9f3a"
             ],
             [
              0.8888888888888888,
              "#fdca26"
             ],
             [
              1,
              "#f0f921"
             ]
            ],
            "type": "contour"
           }
          ],
          "contourcarpet": [
           {
            "colorbar": {
             "outlinewidth": 0,
             "ticks": ""
            },
            "type": "contourcarpet"
           }
          ],
          "heatmap": [
           {
            "colorbar": {
             "outlinewidth": 0,
             "ticks": ""
            },
            "colorscale": [
             [
              0,
              "#0d0887"
             ],
             [
              0.1111111111111111,
              "#46039f"
             ],
             [
              0.2222222222222222,
              "#7201a8"
             ],
             [
              0.3333333333333333,
              "#9c179e"
             ],
             [
              0.4444444444444444,
              "#bd3786"
             ],
             [
              0.5555555555555556,
              "#d8576b"
             ],
             [
              0.6666666666666666,
              "#ed7953"
             ],
             [
              0.7777777777777778,
              "#fb9f3a"
             ],
             [
              0.8888888888888888,
              "#fdca26"
             ],
             [
              1,
              "#f0f921"
             ]
            ],
            "type": "heatmap"
           }
          ],
          "heatmapgl": [
           {
            "colorbar": {
             "outlinewidth": 0,
             "ticks": ""
            },
            "colorscale": [
             [
              0,
              "#0d0887"
             ],
             [
              0.1111111111111111,
              "#46039f"
             ],
             [
              0.2222222222222222,
              "#7201a8"
             ],
             [
              0.3333333333333333,
              "#9c179e"
             ],
             [
              0.4444444444444444,
              "#bd3786"
             ],
             [
              0.5555555555555556,
              "#d8576b"
             ],
             [
              0.6666666666666666,
              "#ed7953"
             ],
             [
              0.7777777777777778,
              "#fb9f3a"
             ],
             [
              0.8888888888888888,
              "#fdca26"
             ],
             [
              1,
              "#f0f921"
             ]
            ],
            "type": "heatmapgl"
           }
          ],
          "histogram": [
           {
            "marker": {
             "pattern": {
              "fillmode": "overlay",
              "size": 10,
              "solidity": 0.2
             }
            },
            "type": "histogram"
           }
          ],
          "histogram2d": [
           {
            "colorbar": {
             "outlinewidth": 0,
             "ticks": ""
            },
            "colorscale": [
             [
              0,
              "#0d0887"
             ],
             [
              0.1111111111111111,
              "#46039f"
             ],
             [
              0.2222222222222222,
              "#7201a8"
             ],
             [
              0.3333333333333333,
              "#9c179e"
             ],
             [
              0.4444444444444444,
              "#bd3786"
             ],
             [
              0.5555555555555556,
              "#d8576b"
             ],
             [
              0.6666666666666666,
              "#ed7953"
             ],
             [
              0.7777777777777778,
              "#fb9f3a"
             ],
             [
              0.8888888888888888,
              "#fdca26"
             ],
             [
              1,
              "#f0f921"
             ]
            ],
            "type": "histogram2d"
           }
          ],
          "histogram2dcontour": [
           {
            "colorbar": {
             "outlinewidth": 0,
             "ticks": ""
            },
            "colorscale": [
             [
              0,
              "#0d0887"
             ],
             [
              0.1111111111111111,
              "#46039f"
             ],
             [
              0.2222222222222222,
              "#7201a8"
             ],
             [
              0.3333333333333333,
              "#9c179e"
             ],
             [
              0.4444444444444444,
              "#bd3786"
             ],
             [
              0.5555555555555556,
              "#d8576b"
             ],
             [
              0.6666666666666666,
              "#ed7953"
             ],
             [
              0.7777777777777778,
              "#fb9f3a"
             ],
             [
              0.8888888888888888,
              "#fdca26"
             ],
             [
              1,
              "#f0f921"
             ]
            ],
            "type": "histogram2dcontour"
           }
          ],
          "mesh3d": [
           {
            "colorbar": {
             "outlinewidth": 0,
             "ticks": ""
            },
            "type": "mesh3d"
           }
          ],
          "parcoords": [
           {
            "line": {
             "colorbar": {
              "outlinewidth": 0,
              "ticks": ""
             }
            },
            "type": "parcoords"
           }
          ],
          "pie": [
           {
            "automargin": true,
            "type": "pie"
           }
          ],
          "scatter": [
           {
            "fillpattern": {
             "fillmode": "overlay",
             "size": 10,
             "solidity": 0.2
            },
            "type": "scatter"
           }
          ],
          "scatter3d": [
           {
            "line": {
             "colorbar": {
              "outlinewidth": 0,
              "ticks": ""
             }
            },
            "marker": {
             "colorbar": {
              "outlinewidth": 0,
              "ticks": ""
             }
            },
            "type": "scatter3d"
           }
          ],
          "scattercarpet": [
           {
            "marker": {
             "colorbar": {
              "outlinewidth": 0,
              "ticks": ""
             }
            },
            "type": "scattercarpet"
           }
          ],
          "scattergeo": [
           {
            "marker": {
             "colorbar": {
              "outlinewidth": 0,
              "ticks": ""
             }
            },
            "type": "scattergeo"
           }
          ],
          "scattergl": [
           {
            "marker": {
             "colorbar": {
              "outlinewidth": 0,
              "ticks": ""
             }
            },
            "type": "scattergl"
           }
          ],
          "scattermapbox": [
           {
            "marker": {
             "colorbar": {
              "outlinewidth": 0,
              "ticks": ""
             }
            },
            "type": "scattermapbox"
           }
          ],
          "scatterpolar": [
           {
            "marker": {
             "colorbar": {
              "outlinewidth": 0,
              "ticks": ""
             }
            },
            "type": "scatterpolar"
           }
          ],
          "scatterpolargl": [
           {
            "marker": {
             "colorbar": {
              "outlinewidth": 0,
              "ticks": ""
             }
            },
            "type": "scatterpolargl"
           }
          ],
          "scatterternary": [
           {
            "marker": {
             "colorbar": {
              "outlinewidth": 0,
              "ticks": ""
             }
            },
            "type": "scatterternary"
           }
          ],
          "surface": [
           {
            "colorbar": {
             "outlinewidth": 0,
             "ticks": ""
            },
            "colorscale": [
             [
              0,
              "#0d0887"
             ],
             [
              0.1111111111111111,
              "#46039f"
             ],
             [
              0.2222222222222222,
              "#7201a8"
             ],
             [
              0.3333333333333333,
              "#9c179e"
             ],
             [
              0.4444444444444444,
              "#bd3786"
             ],
             [
              0.5555555555555556,
              "#d8576b"
             ],
             [
              0.6666666666666666,
              "#ed7953"
             ],
             [
              0.7777777777777778,
              "#fb9f3a"
             ],
             [
              0.8888888888888888,
              "#fdca26"
             ],
             [
              1,
              "#f0f921"
             ]
            ],
            "type": "surface"
           }
          ],
          "table": [
           {
            "cells": {
             "fill": {
              "color": "#EBF0F8"
             },
             "line": {
              "color": "white"
             }
            },
            "header": {
             "fill": {
              "color": "#C8D4E3"
             },
             "line": {
              "color": "white"
             }
            },
            "type": "table"
           }
          ]
         },
         "layout": {
          "annotationdefaults": {
           "arrowcolor": "#2a3f5f",
           "arrowhead": 0,
           "arrowwidth": 1
          },
          "autotypenumbers": "strict",
          "coloraxis": {
           "colorbar": {
            "outlinewidth": 0,
            "ticks": ""
           }
          },
          "colorscale": {
           "diverging": [
            [
             0,
             "#8e0152"
            ],
            [
             0.1,
             "#c51b7d"
            ],
            [
             0.2,
             "#de77ae"
            ],
            [
             0.3,
             "#f1b6da"
            ],
            [
             0.4,
             "#fde0ef"
            ],
            [
             0.5,
             "#f7f7f7"
            ],
            [
             0.6,
             "#e6f5d0"
            ],
            [
             0.7,
             "#b8e186"
            ],
            [
             0.8,
             "#7fbc41"
            ],
            [
             0.9,
             "#4d9221"
            ],
            [
             1,
             "#276419"
            ]
           ],
           "sequential": [
            [
             0,
             "#0d0887"
            ],
            [
             0.1111111111111111,
             "#46039f"
            ],
            [
             0.2222222222222222,
             "#7201a8"
            ],
            [
             0.3333333333333333,
             "#9c179e"
            ],
            [
             0.4444444444444444,
             "#bd3786"
            ],
            [
             0.5555555555555556,
             "#d8576b"
            ],
            [
             0.6666666666666666,
             "#ed7953"
            ],
            [
             0.7777777777777778,
             "#fb9f3a"
            ],
            [
             0.8888888888888888,
             "#fdca26"
            ],
            [
             1,
             "#f0f921"
            ]
           ],
           "sequentialminus": [
            [
             0,
             "#0d0887"
            ],
            [
             0.1111111111111111,
             "#46039f"
            ],
            [
             0.2222222222222222,
             "#7201a8"
            ],
            [
             0.3333333333333333,
             "#9c179e"
            ],
            [
             0.4444444444444444,
             "#bd3786"
            ],
            [
             0.5555555555555556,
             "#d8576b"
            ],
            [
             0.6666666666666666,
             "#ed7953"
            ],
            [
             0.7777777777777778,
             "#fb9f3a"
            ],
            [
             0.8888888888888888,
             "#fdca26"
            ],
            [
             1,
             "#f0f921"
            ]
           ]
          },
          "colorway": [
           "#636efa",
           "#EF553B",
           "#00cc96",
           "#ab63fa",
           "#FFA15A",
           "#19d3f3",
           "#FF6692",
           "#B6E880",
           "#FF97FF",
           "#FECB52"
          ],
          "font": {
           "color": "#2a3f5f"
          },
          "geo": {
           "bgcolor": "white",
           "lakecolor": "white",
           "landcolor": "#E5ECF6",
           "showlakes": true,
           "showland": true,
           "subunitcolor": "white"
          },
          "hoverlabel": {
           "align": "left"
          },
          "hovermode": "closest",
          "mapbox": {
           "style": "light"
          },
          "paper_bgcolor": "white",
          "plot_bgcolor": "#E5ECF6",
          "polar": {
           "angularaxis": {
            "gridcolor": "white",
            "linecolor": "white",
            "ticks": ""
           },
           "bgcolor": "#E5ECF6",
           "radialaxis": {
            "gridcolor": "white",
            "linecolor": "white",
            "ticks": ""
           }
          },
          "scene": {
           "xaxis": {
            "backgroundcolor": "#E5ECF6",
            "gridcolor": "white",
            "gridwidth": 2,
            "linecolor": "white",
            "showbackground": true,
            "ticks": "",
            "zerolinecolor": "white"
           },
           "yaxis": {
            "backgroundcolor": "#E5ECF6",
            "gridcolor": "white",
            "gridwidth": 2,
            "linecolor": "white",
            "showbackground": true,
            "ticks": "",
            "zerolinecolor": "white"
           },
           "zaxis": {
            "backgroundcolor": "#E5ECF6",
            "gridcolor": "white",
            "gridwidth": 2,
            "linecolor": "white",
            "showbackground": true,
            "ticks": "",
            "zerolinecolor": "white"
           }
          },
          "shapedefaults": {
           "line": {
            "color": "#2a3f5f"
           }
          },
          "ternary": {
           "aaxis": {
            "gridcolor": "white",
            "linecolor": "white",
            "ticks": ""
           },
           "baxis": {
            "gridcolor": "white",
            "linecolor": "white",
            "ticks": ""
           },
           "bgcolor": "#E5ECF6",
           "caxis": {
            "gridcolor": "white",
            "linecolor": "white",
            "ticks": ""
           }
          },
          "title": {
           "x": 0.05
          },
          "xaxis": {
           "automargin": true,
           "gridcolor": "white",
           "linecolor": "white",
           "ticks": "",
           "title": {
            "standoff": 15
           },
           "zerolinecolor": "white",
           "zerolinewidth": 2
          },
          "yaxis": {
           "automargin": true,
           "gridcolor": "white",
           "linecolor": "white",
           "ticks": "",
           "title": {
            "standoff": 15
           },
           "zerolinecolor": "white",
           "zerolinewidth": 2
          }
         }
        },
        "title": {
         "text": "3D Bar Plot of Power Alarms"
        }
       }
      }
     },
     "metadata": {},
     "output_type": "display_data"
    }
   ],
   "source": [
    "months = df['month'].unique()\n",
    "transformers = df['Transformer'].unique()\n",
    "\n",
    "month_mapping = {month: i for i, month in enumerate(sorted(months))}\n",
    "transformer_mapping = {trans: i for i, trans in enumerate(sorted(transformers))}\n",
    "\n",
    "df['month_num'] = df['month'].map(month_mapping)\n",
    "df['transformer_num'] = df['Transformer'].map(transformer_mapping)\n",
    "\n",
    "# Create a color palette\n",
    "colors = pc.qualitative.Plotly\n",
    "\n",
    "# Create the 3D bar plot\n",
    "fig = go.Figure()\n",
    "\n",
    "for i, transformer in enumerate(transformers):\n",
    "    color = colors[i % len(colors)]\n",
    "    for month in months:\n",
    "        df_filtered = df[(df['Transformer'] == transformer) & (df['month'] == month)]\n",
    "        if not df_filtered.empty:\n",
    "            month_num = df_filtered['month_num'].values[0]\n",
    "            transformer_num = df_filtered['transformer_num'].values[0]\n",
    "            alarms = df_filtered['Nr. of power alarms'].values[0]\n",
    "            \n",
    "            fig.add_trace(go.Scatter3d(\n",
    "                x=[month_num, month_num],\n",
    "                y=[transformer_num, transformer_num],\n",
    "                z=[0, alarms],\n",
    "                mode='lines',\n",
    "                line=dict(color=color, width=10),\n",
    "                name=f\"{transformer} - {month}\",\n",
    "                text=f\"Transformer: {transformer}<br>Month: {month}<br>Power Alarms: {alarms}\",\n",
    "                hoverinfo='text'\n",
    "            ))\n",
    "\n",
    "fig.update_layout(\n",
    "    title='3D Bar Plot of Power Alarms',\n",
    "    scene=dict(\n",
    "        xaxis=dict(title='Month', tickvals=list(month_mapping.values()), ticktext=list(month_mapping.keys())),\n",
    "        yaxis=dict(title='Transformer', tickvals=list(transformer_mapping.values()), ticktext=list(transformer_mapping.keys())),\n",
    "        zaxis=dict(title='Nr. of Power Alarms')\n",
    "    )\n",
    ")\n",
    "\n",
    "fig.show()\n",
    "fig.write_html(\"3dpowerAlarms.html\")\n"
   ]
  },
  {
   "cell_type": "code",
   "execution_count": 7,
   "metadata": {},
   "outputs": [],
   "source": []
  },
  {
   "cell_type": "code",
   "execution_count": 14,
   "metadata": {},
   "outputs": [
    {
     "data": {
      "image/png": "[encoded data removed]",
      "text/plain": [
       "<Figure size 1400x800 with 1 Axes>"
      ]
     },
     "metadata": {},
     "output_type": "display_data"
    }
   ],
   "source": [
    "# 2D plot\n",
    "\n",
    "# Create the grouped bar plot\n",
    "fig = plt.figure(figsize=(14, 8))\n",
    "sns.barplot(data=df, x='Transformer', y='Nr. of power alarms', hue='month')\n",
    "\n",
    "# Set plot labels and title\n",
    "plt.xlabel('Transformer')\n",
    "plt.ylabel('Nr. of Power Alarms')\n",
    "plt.title('Number of Power Alarms per Transformer by Month')\n",
    "plt.xticks(rotation=45)\n",
    "plt.legend(title='Month')\n",
    "plt.tight_layout()\n",
    "plt.savefig('groupedPowerAlarmsPlot.png', dpi=300)\n",
    "# Show the plot\n",
    "# plt.show()"
   ]
  },
  {
   "cell_type": "code",
   "execution_count": 13,
   "metadata": {},
   "outputs": [
    {
     "data": {
      "text/plain": [
       "<Figure size 640x480 with 0 Axes>"
      ]
     },
     "metadata": {},
     "output_type": "display_data"
    }
   ],
   "source": [
    "plt.savefig('groupedPowerAlarmsPlot.png', dpi=300)"
   ]
  }
 ],
 "metadata": {
  "kernelspec": {
   "display_name": "Python 3",
   "language": "python",
   "name": "python3"
  },
  "language_info": {
   "codemirror_mode": {
    "name": "ipython",
    "version": 3
   },
   "file_extension": ".py",
   "mimetype": "text/x-python",
   "name": "python",
   "nbconvert_exporter": "python",
   "pygments_lexer": "ipython3",
   "version": "3.11.3"
  }
 },
 "nbformat": 4,
 "nbformat_minor": 2
}
